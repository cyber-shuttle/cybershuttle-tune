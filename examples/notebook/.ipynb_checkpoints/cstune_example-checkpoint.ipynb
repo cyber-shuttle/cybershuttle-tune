{
 "cells": [
  {
   "cell_type": "code",
   "execution_count": 2,
   "id": "278f7496",
   "metadata": {},
   "outputs": [
    {
     "name": "stdout",
     "output_type": "stream",
     "text": [
      "Requirement already satisfied: cybershuttle-tune==0.1.3 in ./venv/lib/python3.10/site-packages (0.1.3)\n",
      "Requirement already satisfied: typer[all]<0.8.0,>=0.7.0 in ./venv/lib/python3.10/site-packages (from cybershuttle-tune==0.1.3) (0.7.0)\n",
      "Requirement already satisfied: pick==2.2.0 in ./venv/lib/python3.10/site-packages (from cybershuttle-tune==0.1.3) (2.2.0)\n",
      "Requirement already satisfied: pyjwt<3.0.0,>=2.8.0 in ./venv/lib/python3.10/site-packages (from cybershuttle-tune==0.1.3) (2.8.0)\n",
      "Requirement already satisfied: paramiko<4.0.0,>=3.3.1 in ./venv/lib/python3.10/site-packages (from cybershuttle-tune==0.1.3) (3.4.0)\n",
      "Requirement already satisfied: thrift<0.17.0,>=0.16.0 in ./venv/lib/python3.10/site-packages (from cybershuttle-tune==0.1.3) (0.16.0)\n",
      "Requirement already satisfied: pandas<3.0.0,>=2.0.3 in ./venv/lib/python3.10/site-packages (from cybershuttle-tune==0.1.3) (2.2.1)\n",
      "Requirement already satisfied: airavata-python-sdk<2.0.0,>=1.1.7 in ./venv/lib/python3.10/site-packages (from cybershuttle-tune==0.1.3) (1.1.7)\n",
      "Requirement already satisfied: requests-oauthlib<2.0.0,>=1.3.1 in ./venv/lib/python3.10/site-packages (from cybershuttle-tune==0.1.3) (1.3.1)\n",
      "Requirement already satisfied: tabulate<0.10.0,>=0.9.0 in ./venv/lib/python3.10/site-packages (from cybershuttle-tune==0.1.3) (0.9.0)\n",
      "Requirement already satisfied: thrift-connector<0.25,>=0.24 in ./venv/lib/python3.10/site-packages (from cybershuttle-tune==0.1.3) (0.24)\n",
      "Requirement already satisfied: jinja2<4.0.0,>=3.1.2 in ./venv/lib/python3.10/site-packages (from cybershuttle-tune==0.1.3) (3.1.3)\n",
      "Requirement already satisfied: scp<0.15.0,>=0.14.5 in ./venv/lib/python3.10/site-packages (from cybershuttle-tune==0.1.3) (0.14.5)\n",
      "Requirement already satisfied: MarkupSafe>=2.0 in ./venv/lib/python3.10/site-packages (from jinja2<4.0.0,>=3.1.2->cybershuttle-tune==0.1.3) (2.1.5)\n",
      "Requirement already satisfied: numpy<2,>=1.22.4 in ./venv/lib/python3.10/site-packages (from pandas<3.0.0,>=2.0.3->cybershuttle-tune==0.1.3) (1.26.4)\n",
      "Requirement already satisfied: pytz>=2020.1 in ./venv/lib/python3.10/site-packages (from pandas<3.0.0,>=2.0.3->cybershuttle-tune==0.1.3) (2024.1)\n",
      "Requirement already satisfied: python-dateutil>=2.8.2 in ./venv/lib/python3.10/site-packages (from pandas<3.0.0,>=2.0.3->cybershuttle-tune==0.1.3) (2.9.0.post0)\n",
      "Requirement already satisfied: tzdata>=2022.7 in ./venv/lib/python3.10/site-packages (from pandas<3.0.0,>=2.0.3->cybershuttle-tune==0.1.3) (2024.1)\n",
      "Requirement already satisfied: bcrypt>=3.2 in ./venv/lib/python3.10/site-packages (from paramiko<4.0.0,>=3.3.1->cybershuttle-tune==0.1.3) (4.1.2)\n",
      "Requirement already satisfied: cryptography>=3.3 in ./venv/lib/python3.10/site-packages (from paramiko<4.0.0,>=3.3.1->cybershuttle-tune==0.1.3) (42.0.5)\n",
      "Requirement already satisfied: pynacl>=1.5 in ./venv/lib/python3.10/site-packages (from paramiko<4.0.0,>=3.3.1->cybershuttle-tune==0.1.3) (1.5.0)\n",
      "Requirement already satisfied: oauthlib>=3.0.0 in ./venv/lib/python3.10/site-packages (from requests-oauthlib<2.0.0,>=1.3.1->cybershuttle-tune==0.1.3) (3.2.2)\n",
      "Requirement already satisfied: requests>=2.0.0 in ./venv/lib/python3.10/site-packages (from requests-oauthlib<2.0.0,>=1.3.1->cybershuttle-tune==0.1.3) (2.31.0)\n",
      "Requirement already satisfied: six>=1.7.2 in ./venv/lib/python3.10/site-packages (from thrift<0.17.0,>=0.16.0->cybershuttle-tune==0.1.3) (1.16.0)\n",
      "Requirement already satisfied: click<9.0.0,>=7.1.1 in ./venv/lib/python3.10/site-packages (from typer[all]<0.8.0,>=0.7.0->cybershuttle-tune==0.1.3) (8.1.7)\n",
      "Requirement already satisfied: shellingham<2.0.0,>=1.3.0 in ./venv/lib/python3.10/site-packages (from typer[all]<0.8.0,>=0.7.0->cybershuttle-tune==0.1.3) (1.5.4)\n",
      "Requirement already satisfied: colorama<0.5.0,>=0.4.3 in ./venv/lib/python3.10/site-packages (from typer[all]<0.8.0,>=0.7.0->cybershuttle-tune==0.1.3) (0.4.6)\n",
      "Requirement already satisfied: rich<13.0.0,>=10.11.0 in ./venv/lib/python3.10/site-packages (from typer[all]<0.8.0,>=0.7.0->cybershuttle-tune==0.1.3) (12.6.0)\n",
      "Requirement already satisfied: cffi>=1.12 in ./venv/lib/python3.10/site-packages (from cryptography>=3.3->paramiko<4.0.0,>=3.3.1->cybershuttle-tune==0.1.3) (1.16.0)\n",
      "Requirement already satisfied: idna<4,>=2.5 in ./venv/lib/python3.10/site-packages (from requests>=2.0.0->requests-oauthlib<2.0.0,>=1.3.1->cybershuttle-tune==0.1.3) (3.6)\n",
      "Requirement already satisfied: urllib3<3,>=1.21.1 in ./venv/lib/python3.10/site-packages (from requests>=2.0.0->requests-oauthlib<2.0.0,>=1.3.1->cybershuttle-tune==0.1.3) (2.2.1)\n",
      "Requirement already satisfied: certifi>=2017.4.17 in ./venv/lib/python3.10/site-packages (from requests>=2.0.0->requests-oauthlib<2.0.0,>=1.3.1->cybershuttle-tune==0.1.3) (2024.2.2)\n",
      "Requirement already satisfied: charset-normalizer<4,>=2 in ./venv/lib/python3.10/site-packages (from requests>=2.0.0->requests-oauthlib<2.0.0,>=1.3.1->cybershuttle-tune==0.1.3) (3.3.2)\n",
      "Requirement already satisfied: commonmark<0.10.0,>=0.9.0 in ./venv/lib/python3.10/site-packages (from rich<13.0.0,>=10.11.0->typer[all]<0.8.0,>=0.7.0->cybershuttle-tune==0.1.3) (0.9.1)\n",
      "Requirement already satisfied: pygments<3.0.0,>=2.6.0 in ./venv/lib/python3.10/site-packages (from rich<13.0.0,>=10.11.0->typer[all]<0.8.0,>=0.7.0->cybershuttle-tune==0.1.3) (2.17.2)\n",
      "Requirement already satisfied: pycparser in ./venv/lib/python3.10/site-packages (from cffi>=1.12->cryptography>=3.3->paramiko<4.0.0,>=3.3.1->cybershuttle-tune==0.1.3) (2.22)\n",
      "\n",
      "\u001b[1m[\u001b[0m\u001b[34;49mnotice\u001b[0m\u001b[1;39;49m]\u001b[0m\u001b[39;49m A new release of pip available: \u001b[0m\u001b[31;49m22.2.2\u001b[0m\u001b[39;49m -> \u001b[0m\u001b[32;49m24.0\u001b[0m\n",
      "\u001b[1m[\u001b[0m\u001b[34;49mnotice\u001b[0m\u001b[1;39;49m]\u001b[0m\u001b[39;49m To update, run: \u001b[0m\u001b[32;49mpip install --upgrade pip\u001b[0m\n"
     ]
    }
   ],
   "source": [
    "! pip install cybershuttle-tune==0.1.3"
   ]
  },
  {
   "cell_type": "code",
   "execution_count": 21,
   "id": "8d9c4bc0",
   "metadata": {},
   "outputs": [],
   "source": [
    "from cybershuttle_tune.sdk import ExecutionContext\n",
    "from cybershuttle_tune.sdk import ApplicationContext\n",
    "from cybershuttle_tune.sdk import TuneConfig\n",
    "from cybershuttle_tune.sdk import DiscreteParam\n",
    "from cybershuttle_tune.sdk import run_grid_search\n",
    "from cybershuttle_tune.sdk import get_sweep_status\n",
    "from cybershuttle_tune.sdk import fetch_outputs\n",
    "from cybershuttle_tune.sdk import authorize\n",
    "import numpy as np"
   ]
  },
  {
   "cell_type": "code",
   "execution_count": 2,
   "id": "33acd63f",
   "metadata": {},
   "outputs": [],
   "source": [
    "authorize()"
   ]
  },
  {
   "cell_type": "code",
   "execution_count": 3,
   "id": "4a965c42",
   "metadata": {},
   "outputs": [],
   "source": [
    "params = [\n",
    "    DiscreteParam('Learning_rate', [1.5, 1.6]),\n",
    "    DiscreteParam('Neurons', [100, 120])\n",
    "]\n",
    "\n",
    "execution_context = ExecutionContext(resource = \"NCSADelta\", \n",
    "                                     project = \"Default Project\", \n",
    "                                     group_resource_profile = \"Default\", \n",
    "                                     cpu = 1, \n",
    "                                     memory = 1000, \n",
    "                                     queue = \"gpuA100x4-interactive\")\n",
    "\n",
    "app_context = ApplicationContext(app_name = \"DEM_Elastic2D_PINN\", input_dir = \"inputs\")\n",
    "\n",
    "tune_config = TuneConfig(\n",
    "    app_context = app_context,\n",
    "    params = params, \n",
    "    execution_context = execution_context)\n"
   ]
  },
  {
   "cell_type": "code",
   "execution_count": 4,
   "id": "f64c187e",
   "metadata": {},
   "outputs": [
    {
     "name": "stderr",
     "output_type": "stream",
     "text": [
      "/Users/dwannipu/code/cybershuttle-tune/examples/notebook/venv/lib/python3.10/site-packages/thrift/transport/TSSLSocket.py:53: DeprecationWarning: ssl.PROTOCOL_TLS is deprecated\n",
      "  self._context = ssl.SSLContext(ssl_version)\n"
     ]
    },
    {
     "name": "stdout",
     "output_type": "stream",
     "text": [
      "Airavata experiment B1Ftlv_0_83eed1a9-b137-4904-b8e6-29b6f5febc81 was launched for sweep config 0\n",
      "Airavata experiment B1Ftlv_1_556b3da7-c5ef-4dfa-9d4b-0416b2f52ff4 was launched for sweep config 1\n",
      "Airavata experiment B1Ftlv_3_6fd519b4-2abf-4313-88d2-70ee29ee5cd5 was launched for sweep config 3\n",
      "Airavata experiment B1Ftlv_2_63dd6c99-e363-40d5-84c2-02f7e47e1b63 was launched for sweep config 2\n"
     ]
    }
   ],
   "source": [
    "response = run_grid_search(tune_config = tune_config)"
   ]
  },
  {
   "cell_type": "code",
   "execution_count": 18,
   "id": "22d93219",
   "metadata": {},
   "outputs": [
    {
     "name": "stderr",
     "output_type": "stream",
     "text": [
      "/Users/dwannipu/code/cybershuttle-tune/examples/notebook/venv/lib/python3.10/site-packages/thrift/transport/TSSLSocket.py:53: DeprecationWarning: ssl.PROTOCOL_TLS is deprecated\n",
      "  self._context = ssl.SSLContext(ssl_version)\n"
     ]
    },
    {
     "data": {
      "text/plain": [
       "[['B1Ftlv_0_83eed1a9-b137-4904-b8e6-29b6f5febc81', 'COMPLETED'],\n",
       " ['B1Ftlv_1_556b3da7-c5ef-4dfa-9d4b-0416b2f52ff4', 'COMPLETED'],\n",
       " ['B1Ftlv_3_6fd519b4-2abf-4313-88d2-70ee29ee5cd5', 'COMPLETED'],\n",
       " ['B1Ftlv_2_63dd6c99-e363-40d5-84c2-02f7e47e1b63', 'COMPLETED']]"
      ]
     },
     "execution_count": 18,
     "metadata": {},
     "output_type": "execute_result"
    }
   ],
   "source": [
    "states, indexes = get_sweep_status(response['job_name'], response['working_dir'])\n",
    "states"
   ]
  },
  {
   "cell_type": "markdown",
   "id": "902a42d1",
   "metadata": {},
   "source": [
    "### Wait until the above job states are completed"
   ]
  },
  {
   "cell_type": "code",
   "execution_count": 19,
   "id": "fb68e654",
   "metadata": {},
   "outputs": [
    {
     "name": "stderr",
     "output_type": "stream",
     "text": [
      "/Users/dwannipu/code/cybershuttle-tune/examples/notebook/venv/lib/python3.10/site-packages/thrift/transport/TSSLSocket.py:53: DeprecationWarning: ssl.PROTOCOL_TLS is deprecated\n",
      "  self._context = ssl.SSLContext(ssl_version)\n"
     ]
    },
    {
     "name": "stdout",
     "output_type": "stream",
     "text": [
      "Downloading experiment B1Ftlv_0_83eed1a9-b137-4904-b8e6-29b6f5febc81 for job index 0\n",
      "Result 200: OK\n",
      "Downloading experiment B1Ftlv_1_556b3da7-c5ef-4dfa-9d4b-0416b2f52ff4 for job index 1\n",
      "Result 200: OK\n",
      "Downloading experiment B1Ftlv_3_6fd519b4-2abf-4313-88d2-70ee29ee5cd5 for job index 3\n",
      "Result 200: OK\n",
      "Downloading experiment B1Ftlv_2_63dd6c99-e363-40d5-84c2-02f7e47e1b63 for job index 2\n",
      "Result 200: OK\n"
     ]
    }
   ],
   "source": [
    "output_paths = fetch_outputs(response['job_name'], response['working_dir'])"
   ]
  },
  {
   "cell_type": "code",
   "execution_count": 20,
   "id": "a45e43d5",
   "metadata": {},
   "outputs": [
    {
     "data": {
      "text/plain": [
       "['workdir/B1Ftlv/0/outputs',\n",
       " 'workdir/B1Ftlv/1/outputs',\n",
       " 'workdir/B1Ftlv/3/outputs',\n",
       " 'workdir/B1Ftlv/2/outputs']"
      ]
     },
     "execution_count": 20,
     "metadata": {},
     "output_type": "execute_result"
    }
   ],
   "source": [
    "output_paths"
   ]
  },
  {
   "cell_type": "markdown",
   "id": "6b99bd3d",
   "metadata": {},
   "source": [
    "### Write the analysis code here"
   ]
  },
  {
   "cell_type": "code",
   "execution_count": 23,
   "id": "3b4225ca",
   "metadata": {},
   "outputs": [
    {
     "name": "stdout",
     "output_type": "stream",
     "text": [
      "workdir/B1Ftlv/0/outputs/B1Ftlv_0/converged_loss.npy\n",
      "workdir/B1Ftlv/1/outputs/B1Ftlv_1/converged_loss.npy\n",
      "workdir/B1Ftlv/3/outputs/B1Ftlv_3/converged_loss.npy\n",
      "workdir/B1Ftlv/2/outputs/B1Ftlv_2/converged_loss.npy\n"
     ]
    }
   ],
   "source": [
    "loss_data = []\n",
    "for op in output_paths:\n",
    "    loss_file = op + \"/\" + response['job_name'] + '_' + op.split('/')[-2] + '/' + 'converged_loss.npy'\n",
    "    print(loss_file)\n",
    "    data = np.load(loss_file)\n",
    "    loss_data.append(data)"
   ]
  },
  {
   "cell_type": "code",
   "execution_count": 24,
   "id": "083cd8f9-fd8a-446b-9011-35933d51a4e2",
   "metadata": {},
   "outputs": [
    {
     "data": {
      "text/plain": [
       "[array(0.), array(0.), array(-0.02601084), array(-0.02600878)]"
      ]
     },
     "execution_count": 24,
     "metadata": {},
     "output_type": "execute_result"
    }
   ],
   "source": [
    "loss_data"
   ]
  },
  {
   "cell_type": "code",
   "execution_count": null,
   "id": "954af04a-7828-418a-bc08-64fea503a26a",
   "metadata": {},
   "outputs": [],
   "source": []
  }
 ],
 "metadata": {
  "kernelspec": {
   "display_name": "Python 3 (ipykernel)",
   "language": "python",
   "name": "python3"
  },
  "language_info": {
   "codemirror_mode": {
    "name": "ipython",
    "version": 3
   },
   "file_extension": ".py",
   "mimetype": "text/x-python",
   "name": "python",
   "nbconvert_exporter": "python",
   "pygments_lexer": "ipython3",
   "version": "3.10.8"
  }
 },
 "nbformat": 4,
 "nbformat_minor": 5
}
