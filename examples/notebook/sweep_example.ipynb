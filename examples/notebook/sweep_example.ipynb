{
 "cells": [
  {
   "cell_type": "code",
   "execution_count": null,
   "id": "eda5c752",
   "metadata": {},
   "outputs": [],
   "source": [
    "!pip install cybershuttle-tune"
   ]
  },
  {
   "cell_type": "code",
   "execution_count": null,
   "id": "2f3fb3e1",
   "metadata": {},
   "outputs": [],
   "source": [
    "import cybershuttle_tune.parser as parser\n",
    "import cybershuttle_tune.airavata_operator as operator\n",
    "import cybershuttle_tune.sweeper as sweeper\n",
    "import cybershuttle_tune.param_types as param_types\n",
    "import configparser"
   ]
  },
  {
   "cell_type": "code",
   "execution_count": null,
   "id": "00f88a91",
   "metadata": {},
   "outputs": [],
   "source": [
    "config_file_location = 'settings.ini'\n",
    "config = configparser.ConfigParser()\n",
    "config.read(config_file_location)\n",
    "auth_url = config.get('KeycloakServer', 'LOGIN_DESKTOP_URI')\n",
    "access_token = input(\"Go to \" + auth_url + \" and paste the access token here: \")"
   ]
  },
  {
   "cell_type": "code",
   "execution_count": null,
   "id": "09cdd133",
   "metadata": {},
   "outputs": [],
   "source": [
    "parameter_values = [param_types.IntParamType(name=\"ha_awake\", values=[0,0.2,0.4]),\n",
    "                        param_types.FloatParamType(name=\"ach_th_awake\", values=[0.1, 0.3])]"
   ]
  },
  {
   "cell_type": "code",
   "execution_count": null,
   "id": "4d89e050",
   "metadata": {},
   "outputs": [],
   "source": [
    "sweeper.generate_inputs(job_name=\"sample1\",\n",
    "                            template_dir=\"inputs\",\n",
    "                            parameter_values=parameter_values,\n",
    "                            working_dir=\"workdir\")"
   ]
  },
  {
   "cell_type": "code",
   "execution_count": null,
   "id": "78fc8a2b",
   "metadata": {},
   "outputs": [],
   "source": [
    "sweeper.sweep_params(access_token,\n",
    "                         job_name=\"sample1\",\n",
    "                         application_name=\"Sleep-Stage-Transition(stim)\",\n",
    "                         computation_resource_name=\"Expanse\",\n",
    "                         working_dir=\"workdir\",\n",
    "                         config_file_location=config_file_location)"
   ]
  },
  {
   "cell_type": "code",
   "execution_count": null,
   "id": "f9accc1d",
   "metadata": {},
   "outputs": [],
   "source": []
  }
 ],
 "metadata": {
  "kernelspec": {
   "display_name": "Python 3 (ipykernel)",
   "language": "python",
   "name": "python3"
  },
  "language_info": {
   "codemirror_mode": {
    "name": "ipython",
    "version": 3
   },
   "file_extension": ".py",
   "mimetype": "text/x-python",
   "name": "python",
   "nbconvert_exporter": "python",
   "pygments_lexer": "ipython3",
   "version": "3.10.8"
  }
 },
 "nbformat": 4,
 "nbformat_minor": 5
}
